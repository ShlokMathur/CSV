{
 "cells": [
  {
   "cell_type": "code",
   "execution_count": 1,
   "metadata": {},
   "outputs": [
    {
     "name": "stdout",
     "output_type": "stream",
     "text": [
      "                            Name Registration Number\n",
      "0                       A Mohith           19MIS1007\n",
      "1              A S GIRISH THEJA            20BPS1014\n",
      "2                Aakanksha Priya          20BCY10030\n",
      "3                      AAKASH  A           20BEC1294\n",
      "4          Aarthi Hasitha Yepuri           20bce7110\n",
      "...                          ...                 ...\n",
      "1230     Yuva Sai Varma Penmatsa           20BCT0153\n",
      "1231  Yuva Sri Ganesh  Giduturi            20BCR7149\n",
      "1232               Yuvansh Saini           20BCE1594\n",
      "1233                zaman saleel           20BCE2025\n",
      "1234                  Zeel Lukhi           20BCI0206\n",
      "\n",
      "[1235 rows x 2 columns]\n"
     ]
    }
   ],
   "source": [
    "import pandas as pd\n",
    "\n",
    "# Replace 'your_file.csv' with the actual path to your CSV file\n",
    "file_path = 'Sheet1.csv'\n",
    "\n",
    "# Read the CSV file into a DataFrame\n",
    "df = pd.read_csv(file_path)\n",
    "\n",
    "# Display the DataFrame\n",
    "print(df)\n"
   ]
  },
  {
   "cell_type": "code",
   "execution_count": null,
   "metadata": {},
   "outputs": [],
   "source": [
    "import pandas as pd\n",
    "\n",
    "# Load CSV file into a DataFrame\n",
    "df = pd.read_csv('Sheet1.csv')\n",
    "\n",
    "# Get user input for filtering\n",
    "user_input = input(\"20BCE\")\n",
    "\n",
    "# Filter DataFrame based on user input\n",
    "filtered_df = df[df['Registration Number'] == user_input]\n",
    "\n",
    "# Display the filtered DataFrame\n",
    "print(filtered_df)\n"
   ]
  }
 ],
 "metadata": {
  "kernelspec": {
   "display_name": "Python 3",
   "language": "python",
   "name": "python3"
  },
  "language_info": {
   "codemirror_mode": {
    "name": "ipython",
    "version": 3
   },
   "file_extension": ".py",
   "mimetype": "text/x-python",
   "name": "python",
   "nbconvert_exporter": "python",
   "pygments_lexer": "ipython3",
   "version": "3.8.9"
  }
 },
 "nbformat": 4,
 "nbformat_minor": 2
}
